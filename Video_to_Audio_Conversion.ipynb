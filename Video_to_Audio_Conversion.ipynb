{
  "nbformat": 4,
  "nbformat_minor": 0,
  "metadata": {
    "colab": {
      "provenance": [],
      "authorship_tag": "ABX9TyPJUCRwugkfabdwVJ5G9pr/",
      "include_colab_link": true
    },
    "kernelspec": {
      "name": "python3",
      "display_name": "Python 3"
    },
    "language_info": {
      "name": "python"
    }
  },
  "cells": [
    {
      "cell_type": "markdown",
      "metadata": {
        "id": "view-in-github",
        "colab_type": "text"
      },
      "source": [
        "<a href=\"https://colab.research.google.com/github/NamanChaudhary1/Video-to-Audio-Conversion/blob/main/Video_to_Audio_Conversion.ipynb\" target=\"_parent\"><img src=\"https://colab.research.google.com/assets/colab-badge.svg\" alt=\"Open In Colab\"/></a>"
      ]
    },
    {
      "cell_type": "code",
      "execution_count": null,
      "metadata": {
        "id": "bJsS6vZ-zY8s"
      },
      "outputs": [],
      "source": [
        "!pip install SpeechRecognition"
      ]
    },
    {
      "cell_type": "code",
      "source": [
        "import speech_recognition as sr\n",
        "#Initiаlize  reсоgnizer  сlаss  (fоr  reсоgnizing  the  sрeeсh)\n",
        "r = sr.Recognizer()\n",
        "# Reading Audio file as source\n",
        "#  listening  the  аudiо  file  аnd  stоre  in  аudiо_text  vаriаble\n",
        "with sr.AudioFile('/content/Sample.wav') as source:\n",
        "    audio_text = r.listen(source,phrase_time_limit=30)\n",
        "# recoginize_() method will throw a request error if the API is unreachable, hence using exception handling\n",
        "    try:\n",
        "        # using google speech recognition\n",
        "        text = r.recognize_google(audio_text)\n",
        "        print('Converting audio transcripts into text ...')\n",
        "        print(text)\n",
        "    except:\n",
        "         print('Sorry.. run again...')\n",
        ""
      ],
      "metadata": {
        "id": "vYeett2Fzcq2"
      },
      "execution_count": null,
      "outputs": []
    }
  ]
}